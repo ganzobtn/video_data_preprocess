{
 "cells": [
  {
   "cell_type": "code",
   "execution_count": 1,
   "metadata": {},
   "outputs": [],
   "source": [
    "import os\n",
    "import pickle as pkl\n",
    "import pandas as pd"
   ]
  },
  {
   "cell_type": "code",
   "execution_count": 2,
   "metadata": {},
   "outputs": [],
   "source": [
    "wlasl_data_path = '/projects/data/wlasl_2000/'\n",
    "wlasl_video_path = '/projects/data/WLASL2000/'\n"
   ]
  },
  {
   "cell_type": "code",
   "execution_count": 3,
   "metadata": {},
   "outputs": [],
   "source": [
    "wlasl_train = os.path.join(wlasl_data_path,'train.pkl')\n",
    "wlasl_test = os.path.join(wlasl_data_path,'test.pkl')\n",
    "wlasl_val = os.path.join(wlasl_data_path,'dev.pkl')\n"
   ]
  },
  {
   "cell_type": "code",
   "execution_count": 4,
   "metadata": {},
   "outputs": [],
   "source": [
    "train_file = pd.read_pickle(wlasl_train)\n",
    "test_file = pd.read_pickle(wlasl_test)\n",
    "val_file = pd.read_pickle(wlasl_val)"
   ]
  },
  {
   "cell_type": "code",
   "execution_count": 5,
   "metadata": {},
   "outputs": [
    {
     "name": "stdout",
     "output_type": "stream",
     "text": [
      "14689\n",
      "2878\n",
      "4316\n"
     ]
    }
   ],
   "source": [
    "print(len(train_file))\n",
    "print(len(test_file))\n",
    "print(len(val_file))"
   ]
  },
  {
   "cell_type": "code",
   "execution_count": 6,
   "metadata": {},
   "outputs": [],
   "source": [
    "train_file_name_labels = {}\n",
    "test_file_name_labels = {}\n",
    "val_file_name_labels = {}\n",
    "\n",
    "for i in train_file:\n",
    "    #print(i)\n",
    "    train_file_name_labels[i['name']] = i['label']\n",
    "test_file_name_labels = {}\n",
    "\n",
    "for i in test_file:\n",
    "    #print(i)\n",
    "    test_file_name_labels[i['name']] = i['label']\n",
    "val_file_name_labels = {}\n",
    "\n",
    "for i in val_file:\n",
    "    #print(i)\n",
    "    val_file_name_labels[i['name']] = i['label']\n"
   ]
  },
  {
   "cell_type": "code",
   "execution_count": 7,
   "metadata": {},
   "outputs": [
    {
     "name": "stdout",
     "output_type": "stream",
     "text": [
      "21095\n",
      "<class 'dict'>\n",
      "14296 2879 3920\n"
     ]
    }
   ],
   "source": [
    "\n",
    "import json\n",
    " \n",
    "# Opening JSON file\n",
    "f = open(os.path.join(wlasl_data_path,'2000.json'))\n",
    " \n",
    "# returns JSON object as \n",
    "# a dictionary\n",
    "data = json.load(f)\n",
    "\n",
    "train_count = 0\n",
    "test_count = 0\n",
    "val_count = 0 \n",
    "# Iterating through the json\n",
    "# list\n",
    "print(len(data))\n",
    "print(type(data))\n",
    "for i in data:\n",
    "    #print(i, data[i])\n",
    "    #print('----')\n",
    "    if data[i]['subset']=='train':\n",
    "        train_count +=1\n",
    "    elif data[i]['subset']=='test':\n",
    "        test_count +=1\n",
    "    elif data[i]['subset']=='val':\n",
    "        val_count +=1\n",
    "    else:\n",
    "        print(i, data[i])\n",
    "# Closing file\n",
    "f.close()\n",
    "print(train_count,test_count,val_count)"
   ]
  },
  {
   "cell_type": "code",
   "execution_count": 8,
   "metadata": {},
   "outputs": [
    {
     "name": "stdout",
     "output_type": "stream",
     "text": [
      "39347\n",
      "60721\n",
      "16096\n",
      "13422\n",
      "57839\n",
      "47639\n",
      "20138\n",
      "-------\n",
      "09500\n",
      "-------\n",
      "12209\n",
      "51153\n",
      "48251\n",
      "20065\n"
     ]
    }
   ],
   "source": [
    "for i in data:\n",
    "    #print(i,data[i])\n",
    "    if data[i]['subset']=='train':\n",
    "        try:\n",
    "            label =  train_file_name_labels[i] \n",
    "            #print(label)\n",
    "        except:\n",
    "            print(i)\n",
    "print('-------')\n",
    "for i in data:\n",
    "    #print(i,data[i])\n",
    "    if data[i]['subset']=='test':\n",
    "        try:\n",
    "            label =  test_file_name_labels[i] \n",
    "            #print(label)\n",
    "        except:\n",
    "            print(i)\n",
    "\n",
    "\n",
    "print('-------')\n",
    "for i in data:\n",
    "    #print(i,data[i])\n",
    "    if data[i]['subset']=='val':\n",
    "        try:\n",
    "            label =  val_file_name_labels[i] \n",
    "            #print(label)\n",
    "        except:\n",
    "            print(i)\n",
    "            \n"
   ]
  },
  {
   "cell_type": "code",
   "execution_count": 9,
   "metadata": {},
   "outputs": [
    {
     "name": "stdout",
     "output_type": "stream",
     "text": [
      "14289\n"
     ]
    }
   ],
   "source": [
    "number_of_files = 0\n",
    "for i in train_file:\n",
    "    #print(i)\n",
    "\n",
    "    #print('----')\n",
    "    if i['video_file'].startswith('WLASL2000/'):\n",
    "\n",
    "        if os.path.exists(os.path.join(wlasl_data_path,i['video_file'])):\n",
    "            number_of_files += 1\n",
    "        else:\n",
    "            print(i)\n",
    "print(number_of_files)"
   ]
  },
  {
   "cell_type": "code",
   "execution_count": 10,
   "metadata": {},
   "outputs": [
    {
     "name": "stdout",
     "output_type": "stream",
     "text": [
      "2878\n"
     ]
    }
   ],
   "source": [
    "number_of_files = 0\n",
    "for i in test_file:\n",
    "    #print(i)\n",
    "\n",
    "    #print('----')\n",
    "    if os.path.exists(os.path.join(wlasl_data_path,i['video_file'])):\n",
    "        number_of_files += 1\n",
    "print(number_of_files)"
   ]
  },
  {
   "cell_type": "code",
   "execution_count": 11,
   "metadata": {},
   "outputs": [
    {
     "name": "stdout",
     "output_type": "stream",
     "text": [
      "3916\n"
     ]
    }
   ],
   "source": [
    "number_of_files = 0\n",
    "for i in val_file:\n",
    "    #print(i)\n",
    "    #print('----')\n",
    "    if os.path.exists(os.path.join(wlasl_data_path,i['video_file'])):\n",
    "        number_of_files += 1\n",
    "print(number_of_files)"
   ]
  },
  {
   "cell_type": "code",
   "execution_count": 12,
   "metadata": {},
   "outputs": [],
   "source": [
    "with open('/projects/vita_clip/label_map_wlasl2000.txt') as f:\n",
    "    wlasl_2000_label_mappings = [line.rstrip('\\n').replace('_', ' ') for line in f]\n",
    "#import json\n",
    "with open('/projects/vita_clip/classes/wlasl2000_classes.txt','w') as f:\n",
    "     for line in wlasl_2000_label_mappings:\n",
    "        f.write(f\"{line}\\n\")   \n",
    "#with open('/projects/vita_clip/label_map_wlasl2000.json', 'w', encoding = 'utf-8') as f:\n",
    "#    json.dump(wlasl_2000_label_mappings,f,indent=4)"
   ]
  },
  {
   "cell_type": "code",
   "execution_count": 13,
   "metadata": {},
   "outputs": [],
   "source": [
    "wlasl_data_path = '/projects/data/wlasl_2000/resized/224/'\n"
   ]
  },
  {
   "cell_type": "code",
   "execution_count": 14,
   "metadata": {},
   "outputs": [],
   "source": [
    "number_of_files = 0\n",
    "import csv\n",
    "use_data_root = True\n",
    "check_exist = False\n",
    "os.makedirs(os.path.join(wlasl_data_path,'annotations'),exist_ok= True)\n",
    "with open(os.path.join(wlasl_data_path,'annotations/train.csv'),'w',newline ='') as file_write:\n",
    "    writer = csv.writer(file_write)\n",
    "            \n",
    "    for i in train_file:\n",
    "        if i['video_file'].startswith('WLASL2000/'):\n",
    "\n",
    "            if use_data_root:\n",
    "                if check_exist:\n",
    "                    if os.path.exists(os.path.join(wlasl_data_path,i['video_file'])):\n",
    "                        path = os.path.join(wlasl_data_path, i['video_file'])\n",
    "                    else:\n",
    "                        print(i)\n",
    "\n",
    "                else:\n",
    "                        path = os.path.join(wlasl_data_path, i['video_file'])\n",
    "\n",
    "\n",
    "            else:\n",
    "                path = i['video_file']\n",
    "\n",
    "            label = wlasl_2000_label_mappings.index(i['label'])\n",
    "            row = [path,str(label)]\n",
    "            writer.writerow(row)\n",
    "\n",
    "\n",
    "with open(os.path.join(wlasl_data_path,'annotations/test.csv'),'w',newline ='') as file_write:\n",
    "    writer = csv.writer(file_write)\n",
    "\n",
    "    for i in test_file:\n",
    "        if i['video_file'].startswith('WLASL2000/'):\n",
    "\n",
    "            if use_data_root:\n",
    "                if check_exist:\n",
    "                    if os.path.exists(os.path.join(wlasl_data_path,i['video_file'])):\n",
    "                        path = os.path.join(wlasl_data_path, i['video_file'])\n",
    "                    else:\n",
    "                        print(i)\n",
    "                else:\n",
    "                        path = os.path.join(wlasl_data_path, i['video_file'])\n",
    "            else:\n",
    "                path = i['video_file']\n",
    "            \n",
    "            label = wlasl_2000_label_mappings.index(i['label'])\n",
    "            row = [path,str(label)]\n",
    "            writer.writerow(row)\n",
    "\n",
    "\n",
    "with open(os.path.join(wlasl_data_path,'annotations/val.csv'),'w',newline ='',encoding='UTF8') as file_write:\n",
    "    writer = csv.writer(file_write)\n",
    "\n",
    "    for i in val_file:\n",
    "        if i['video_file'].startswith('WLASL2000/'):\n",
    "            if use_data_root:\n",
    "                if check_exist:\n",
    "                    if os.path.exists(os.path.join(wlasl_data_path,i['video_file'])):\n",
    "                        path = os.path.join(wlasl_data_path, i['video_file'])\n",
    "                    else:\n",
    "                        print(i)\n",
    "                else:\n",
    "                        path = os.path.join(wlasl_data_path, i['video_file'])\n",
    "\n",
    "\n",
    "            else:\n",
    "                path = i['video_file']           \n",
    "            \n",
    "            label = wlasl_2000_label_mappings.index(i['label'])\n",
    "            row = [path,str(label)]\n",
    "            writer.writerow(row)"
   ]
  },
  {
   "cell_type": "code",
   "execution_count": 15,
   "metadata": {},
   "outputs": [],
   "source": [
    "wlasl_data_path = '/projects/data/wlasl_2000/resized/224/'\n",
    "annotation_file_path = os.path.join(wlasl_data_path,'annotations/space/')\n",
    "\n",
    "number_of_files = 0\n",
    "import csv\n",
    "use_data_root = True\n",
    "check_exist = False\n",
    "\n",
    "os.makedirs(annotation_file_path,exist_ok= True)\n",
    "\n",
    "with open(os.path.join(annotation_file_path,'train.csv'),'w',newline ='') as file_write:\n",
    "    writer = csv.writer(file_write)\n",
    "            \n",
    "    for i in train_file:\n",
    "        if i['video_file'].startswith('WLASL2000/'):\n",
    "\n",
    "            if use_data_root:\n",
    "                if check_exist:\n",
    "                    if os.path.exists(os.path.join(wlasl_data_path,i['video_file'])):\n",
    "                        path = os.path.join(wlasl_data_path, i['video_file'])\n",
    "                    else:\n",
    "                        print(i)\n",
    "\n",
    "                else:\n",
    "                        path = os.path.join(wlasl_data_path, i['video_file'])\n",
    "\n",
    "\n",
    "            else:\n",
    "                path = i['video_file']\n",
    "\n",
    "            label = wlasl_2000_label_mappings.index(i['label'])\n",
    "            row = [path+' ' +str(label)]\n",
    "            writer.writerow(row)\n",
    "\n",
    "\n",
    "with open(os.path.join(annotation_file_path,'test.csv'),'w',newline ='') as file_write:\n",
    "    writer = csv.writer(file_write)\n",
    "\n",
    "    for i in test_file:\n",
    "        if i['video_file'].startswith('WLASL2000/'):\n",
    "\n",
    "            if use_data_root:\n",
    "                if check_exist:\n",
    "                    if os.path.exists(os.path.join(wlasl_data_path,i['video_file'])):\n",
    "                        path = os.path.join(wlasl_data_path, i['video_file'])\n",
    "                    else:\n",
    "                        print(i)\n",
    "                else:\n",
    "                        path = os.path.join(wlasl_data_path, i['video_file'])\n",
    "            else:\n",
    "                path = i['video_file']\n",
    "            \n",
    "            label = wlasl_2000_label_mappings.index(i['label'])\n",
    "            row = [path+' '+str(label)]\n",
    "            writer.writerow(row)\n",
    "\n",
    "\n",
    "with open(os.path.join(annotation_file_path,'val.csv'),'w',newline ='',encoding='UTF8') as file_write:\n",
    "    writer = csv.writer(file_write)\n",
    "\n",
    "    for i in val_file:\n",
    "        if i['video_file'].startswith('WLASL2000/'):\n",
    "            if use_data_root:\n",
    "                if check_exist:\n",
    "                    if os.path.exists(os.path.join(wlasl_data_path,i['video_file'])):\n",
    "                        path = os.path.join(wlasl_data_path, i['video_file'])\n",
    "                    else:\n",
    "                        print(i)\n",
    "                else:\n",
    "                        path = os.path.join(wlasl_data_path, i['video_file'])\n",
    "\n",
    "\n",
    "            else:\n",
    "                path = i['video_file']           \n",
    "            \n",
    "            label = wlasl_2000_label_mappings.index(i['label'])\n",
    "            row = [path+' '+str(label)]\n",
    "            writer.writerow(row)"
   ]
  },
  {
   "cell_type": "code",
   "execution_count": null,
   "metadata": {},
   "outputs": [],
   "source": []
  }
 ],
 "metadata": {
  "kernelspec": {
   "display_name": "vita-clip",
   "language": "python",
   "name": "python3"
  },
  "language_info": {
   "codemirror_mode": {
    "name": "ipython",
    "version": 3
   },
   "file_extension": ".py",
   "mimetype": "text/x-python",
   "name": "python",
   "nbconvert_exporter": "python",
   "pygments_lexer": "ipython3",
   "version": "3.8.18"
  }
 },
 "nbformat": 4,
 "nbformat_minor": 2
}

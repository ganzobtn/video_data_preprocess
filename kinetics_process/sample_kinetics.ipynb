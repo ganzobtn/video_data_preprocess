{
 "cells": [
  {
   "cell_type": "code",
   "execution_count": 1,
   "metadata": {},
   "outputs": [],
   "source": [
    "import os\n",
    "import shutil"
   ]
  },
  {
   "cell_type": "code",
   "execution_count": null,
   "metadata": {},
   "outputs": [],
   "source": [
    "kinetics_path = ''"
   ]
  },
  {
   "cell_type": "code",
   "execution_count": null,
   "metadata": {},
   "outputs": [],
   "source": [
    "import csv\n",
    "import os\n",
    "import pandas as pd\n",
    "\n",
    "my_path = '/projects/data/kinetics_dataset/k400/annotations'\n",
    "kinetics_path = '/projects/videomaev2/datas/dgx/pretrain/k400/'\n",
    "os.makedirs(kinetics_path,exist_ok=True)\n",
    "data_path = '/projects/data/kinetics_dataset/k400/'\n"
   ]
  },
  {
   "cell_type": "code",
   "execution_count": null,
   "metadata": {},
   "outputs": [],
   "source": [
    "\n",
    "#my_path = '/projects/data/kinetics_dataset/k400/'\n",
    "#for i in ['train.csv','test.csv','val.csv']:\n",
    "for i in ['test.csv']:\n",
    "    missing_videos  = []\n",
    "    rows = []\n",
    "    with open(os.path.join(kinetics_path,i),'w',newline ='') as file_write:\n",
    "        writer = csv.writer(file_write)\n",
    "        data = pd.read_csv(os.path.join(my_path,i),usecols=['label','youtube_id','time_start','time_end'])\n",
    "        for index, row in data.iterrows():\n",
    "            #print(row['label'], row['youtube_id'], type(row['time_start']),type(row['time_end']))\n",
    "            assert row['time_start']< row['time_end']\n",
    "            #print(row['youtube_id'] + '_'+ '0'*(6-len(str(row['time_start'])))+str(row['time_start']) + '_'+ '0'*(6-len(str(row['time_end'])))+str(row['time_end'])  + '.mp4')  \n",
    "            video_path = row['youtube_id'] + '_'+ '0'*(6-len(str(row['time_start'])))+str(row['time_start']) + '_'+ '0'*(6-len(str(row['time_end'])))+str(row['time_end'])  + '.mp4'\n",
    "\n",
    "            path = data_path+i.split('.')[0]+'/'+video_path #+', 0, -1, 0'\n",
    "            #print(path,label)\n",
    "            if os.path.exists(path):\n",
    "                writer.writerow([path+' 0 -1 0'])#+\"\\, 0\\, -1\\, 0\"]) # video_path, 0, -1, 0\n",
    "            else: \n",
    "                missing_videos.append(path)\n",
    "\n",
    "    print(len(missing_videos))"
   ]
  }
 ],
 "metadata": {
  "kernelspec": {
   "display_name": "nla-slr",
   "language": "python",
   "name": "python3"
  },
  "language_info": {
   "codemirror_mode": {
    "name": "ipython",
    "version": 3
   },
   "file_extension": ".py",
   "mimetype": "text/x-python",
   "name": "python",
   "nbconvert_exporter": "python",
   "pygments_lexer": "ipython3",
   "version": "3.9.18"
  }
 },
 "nbformat": 4,
 "nbformat_minor": 2
}

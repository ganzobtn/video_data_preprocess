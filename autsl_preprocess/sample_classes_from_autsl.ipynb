{
 "cells": [
  {
   "cell_type": "code",
   "execution_count": 5,
   "metadata": {},
   "outputs": [],
   "source": [
    "import pandas as pd"
   ]
  },
  {
   "cell_type": "code",
   "execution_count": 7,
   "metadata": {},
   "outputs": [
    {
     "name": "stdout",
     "output_type": "stream",
     "text": [
      "Collecting openpyxl\n",
      "  Downloading openpyxl-3.1.2-py2.py3-none-any.whl (249 kB)\n",
      "\u001b[2K     \u001b[90m━━━━━━━━━━━━━━━━━━━━━━━━━━━━━━━━━━━━━━━\u001b[0m \u001b[32m250.0/250.0 kB\u001b[0m \u001b[31m6.7 MB/s\u001b[0m eta \u001b[36m0:00:00\u001b[0m\n",
      "\u001b[?25hCollecting et-xmlfile (from openpyxl)\n",
      "  Downloading et_xmlfile-1.1.0-py3-none-any.whl (4.7 kB)\n",
      "Installing collected packages: et-xmlfile, openpyxl\n",
      "Successfully installed et-xmlfile-1.1.0 openpyxl-3.1.2\n",
      "Note: you may need to restart the kernel to use updated packages.\n"
     ]
    }
   ],
   "source": [
    "pip install openpyxl"
   ]
  },
  {
   "cell_type": "code",
   "execution_count": 12,
   "metadata": {},
   "outputs": [],
   "source": [
    "excel_path = '/Users/ganzorig/Library/CloudStorage/OneDrive-UAEUniversity/UAEU/ArSL/Phase_II/AUTSL dataset statistics.xlsx'"
   ]
  },
  {
   "cell_type": "code",
   "execution_count": 29,
   "metadata": {},
   "outputs": [],
   "source": [
    "df = pd.read_excel(excel_path,'Sheet1')\n"
   ]
  },
  {
   "cell_type": "code",
   "execution_count": 23,
   "metadata": {},
   "outputs": [],
   "source": [
    "chosen_list = []\n",
    "class_list ={}\n",
    "class_list['1 hand and 1 gesture']=[]\n",
    "class_list['1 hand and 2 gestures']=[]\n",
    "class_list['2 hands and 1 gesture']=[]\n",
    "class_list['2 hands and 2 gestures']=[]\n",
    "\n",
    "for ind in df.index:\n",
    "    if isinstance(df['class_name'][ind], str):\n",
    "        if df['2 hands and 2 gestures'][ind]:\n",
    "            class_list['2 hands and 2 gestures'].append(df['class_name'][ind])\n",
    "        if df['2 hands and 1 gesture'][ind]:\n",
    "            class_list['2 hands and 1 gesture'].append(df['class_name'][ind])\n",
    "        if df['1 hand and 2 gestures'][ind]:\n",
    "            class_list['1 hand and 2 gestures'].append(df['class_name'][ind])\n",
    "        if df['1 hand and 1 gesture'][ind]:\n",
    "            class_list['1 hand and 1 gesture'].append(df['class_name'][ind])\n",
    "\n",
    "        #print(df['class_name'][ind], df['2 hands and 2 gestures'][ind])\n"
   ]
  },
  {
   "cell_type": "code",
   "execution_count": 28,
   "metadata": {},
   "outputs": [
    {
     "name": "stdout",
     "output_type": "stream",
     "text": [
      "------1 hand and 1 gesture-------\n",
      "['absent', 'allright', 'alone', 'ataturk', 'bad', 'bring', 'child', 'comb', 'cry', 'difficult', 'drink', 'eat', 'enemy', 'escape', 'existing', 'fasting', 'father', 'fault', 'female', 'full', 'gift', 'glass', 'good', 'goodbye', 'government', 'grandfather', 'grandmother', 'guest', 'hat', 'how', 'hungry', 'I', 'if_only', 'ill', 'labor', 'laugh', 'light', 'love', 'male', 'manager', 'meal', 'medicine', 'memorize', 'milk', 'money', 'near', 'never', 'no', 'past', 'promise', 'psychology', 'push', 'radiator', 'retired', 'right', 'road', 'same', 'say', 'school', 'scissors', 'see', 'smell', 'soup', 'sugar', 'sweet', 'tap', 'teacher', 'telephone', 'they', 'thursday', 'toilet', 'tongs', 'turkey', 'unwise', 'voice', 'wait', 'wednesday', 'who', 'wise', 'wrong', 'yes', 'yesterday', 'you']\n",
      "------1 hand and 2 gestures-------\n",
      "['brother', 'enjoy_your_meal', 'feast', 'friday', 'hi', 'inform', 'look', 'mirror', 'monday', 'mother', 'napkin', 'needle', 'nope', 'pencil', 'potato', 'request', 'sad', 'single', 'sister', 'stairs', 'tomorrow', 'ugly', 'we']\n",
      "------2 hands and 1 gesture-------\n",
      "['accident', 'always', 'angel', 'animal', 'apologize', 'baby', 'band-aid', 'bed', 'belt', 'bridge', 'carpet', 'ceiling', 'champion', 'change', 'crossroads', 'danger', 'date', 'do', 'doctor', 'dog', 'door', 'elephant', 'evil', 'family', 'far', 'football', 'forbidden', 'fork', 'free', 'garden', 'glove', 'god_preserve', 'halal', 'hammer', 'heavy', 'help', 'holiday', 'honey', 'hour', 'house', 'hurry', 'identity', 'key', 'kin', 'lap', 'married', 'not_interested', 'okay', 'photograph', 'picnic', 'police', 'rent', 'salary', 'saturday', 'screwdriver', 'shirt', 'shoe', 'shopping', 'sibling', 'star', 'sunday', 'tailor', 'tax', 'tea', 'teapot', 'time', 'tired', 'together', 'towel', 'tree', 'trousers', 'tuesday', 'umbrella', 'wall', 'wallet', 'war', 'wedding', 'where', 'work']\n",
      "------2 hands and 2 gestures-------\n",
      "['be_pleased', 'bill', 'book', 'border', 'breakfast', 'coal', 'cologne', 'congratulations', 'cook', 'cotton', 'egg', 'flag', 'flour', 'forest', 'friend', 'get_well', 'hospital', 'lake', 'lightweight', 'mince', 'minute', 'olympiad', 'orange', 'oven', 'pastrami', 'petrol', 'pharmacy', 'pillow', 'room', 'sauce', 'scales', 'show', 'slow', 'soap', 'stain', 'thanks', 'topple', 'why', 'window', 'wood']\n"
     ]
    }
   ],
   "source": [
    "for i in class_list:\n",
    "    print('------'+i+'-------')\n",
    "\n",
    "    #for element in class_list[i]:\n",
    "    #    print(element)\n",
    "    print(class_list[i])"
   ]
  },
  {
   "cell_type": "code",
   "execution_count": 5,
   "metadata": {},
   "outputs": [],
   "source": [
    "sampled_classes = []\n",
    "\n",
    "with open('autsl100_classes.txt','r') as w:\n",
    "    data = w.read()\n",
    "  \n",
    "# replacing end of line('/n') with ' ' and\n",
    "# splitting the text it further when '.' is seen.\n",
    "sampled_classes = data.split(\"\\n\")"
   ]
  },
  {
   "cell_type": "code",
   "execution_count": null,
   "metadata": {},
   "outputs": [],
   "source": [
    "sampled_classes"
   ]
  },
  {
   "cell_type": "code",
   "execution_count": 34,
   "metadata": {},
   "outputs": [],
   "source": [
    "import os\n",
    "import random\n",
    "import shutil\n",
    "\n",
    "data_path = '/Users/ganzorig/Library/CloudStorage/OneDrive-UAEUniversity/UAEU/Dataset/chalearn_processed_full'\n",
    "dest_path = '/Users/ganzorig/Library/CloudStorage/OneDrive-UAEUniversity/UAEU/Dataset/AUTSL100'\n",
    "big_signer_count = []\n",
    "for split in ['train','test','val']:\n",
    "    for clas in sampled_classes:\n",
    "        os.makedirs(os.path.join(dest_path,'color',split,clas),exist_ok=True)\n",
    "        os.makedirs(os.path.join(dest_path,'depth',split,clas),exist_ok=True)\n",
    "\n",
    "        videos = os.listdir(os.path.join(data_path,'color',split,clas))\n",
    "        signers = {}\n",
    "        for video in videos:\n",
    "            signer = video.split('_')[0]\n",
    "            if signer not in signers:\n",
    "                signers[signer]=[]\n",
    "            signers[signer].append(video)\n",
    "        signer_list = list(signers.keys())\n",
    "        if split=='train':\n",
    "            \n",
    "            signer_list = random.sample(signer_list,10)\n",
    "        for signer in signer_list:\n",
    "            if split =='train':\n",
    "                big_signer_count.append(signer)\n",
    "            if split =='train':\n",
    "                videos = [random.choice(signers[signer])]\n",
    "            else:\n",
    "                    videos = signers[signer]\n",
    "            for video in videos:\n",
    "                #pass\n",
    "                \n",
    "                shutil.copy(os.path.join(data_path,'color',split,clas,video),os.path.join(dest_path,'color',split,clas,video))\n",
    "                shutil.copy(os.path.join(data_path,'depth',split,clas,video.replace('color','depth')),os.path.join(dest_path,'depth',split,clas,video.replace('color','depth')))        "
   ]
  },
  {
   "cell_type": "code",
   "execution_count": 31,
   "metadata": {},
   "outputs": [
    {
     "data": {
      "text/plain": [
       "31"
      ]
     },
     "execution_count": 31,
     "metadata": {},
     "output_type": "execute_result"
    }
   ],
   "source": [
    "len(set(big_signer_count))"
   ]
  },
  {
   "cell_type": "code",
   "execution_count": 35,
   "metadata": {},
   "outputs": [
    {
     "data": {
      "image/png": "[encoded data removed]",
      "text/plain": [
       "<Figure size 640x480 with 1 Axes>"
      ]
     },
     "metadata": {},
     "output_type": "display_data"
    }
   ],
   "source": [
    "import matplotlib.pyplot as plt\n",
    "plt.hist(big_signer_count,bins = len(set(big_signer_count)),alpha =0.5)\n",
    "plt.show()"
   ]
  },
  {
   "cell_type": "code",
   "execution_count": null,
   "metadata": {},
   "outputs": [],
   "source": []
  },
  {
   "cell_type": "code",
   "execution_count": 10,
   "metadata": {},
   "outputs": [
    {
     "name": "stdout",
     "output_type": "stream",
     "text": [
      "Collecting matplotlib\n",
      "  Obtaining dependency information for matplotlib from https://files.pythonhosted.org/packages/1d/57/888776de79e1c2e787368ecbe63e3e57dbec984a5c83220e44c15fefe226/matplotlib-3.7.2-cp39-cp39-macosx_10_12_x86_64.whl.metadata\n",
      "  Downloading matplotlib-3.7.2-cp39-cp39-macosx_10_12_x86_64.whl.metadata (5.6 kB)\n",
      "Collecting contourpy>=1.0.1 (from matplotlib)\n",
      "  Obtaining dependency information for contourpy>=1.0.1 from https://files.pythonhosted.org/packages/44/b4/2bcb2f8afcb7a4652af0fbfa47d5f01ae599c4b35af6f89c1f33c9c56fa3/contourpy-1.1.0-cp39-cp39-macosx_10_9_x86_64.whl.metadata\n",
      "  Downloading contourpy-1.1.0-cp39-cp39-macosx_10_9_x86_64.whl.metadata (5.7 kB)\n",
      "Collecting cycler>=0.10 (from matplotlib)\n",
      "  Downloading cycler-0.11.0-py3-none-any.whl (6.4 kB)\n",
      "Collecting fonttools>=4.22.0 (from matplotlib)\n",
      "  Obtaining dependency information for fonttools>=4.22.0 from https://files.pythonhosted.org/packages/a3/0c/6282d8f58c49ebb1909fa13b27a4935a97d1025284044ebf06d4b84a9d21/fonttools-4.42.1-cp39-cp39-macosx_10_9_x86_64.whl.metadata\n",
      "  Downloading fonttools-4.42.1-cp39-cp39-macosx_10_9_x86_64.whl.metadata (150 kB)\n",
      "\u001b[2K     \u001b[90m━━━━━━━━━━━━━━━━━━━━━━━━━━━━━━━━━━━━━━━\u001b[0m \u001b[32m151.0/151.0 kB\u001b[0m \u001b[31m4.2 MB/s\u001b[0m eta \u001b[36m0:00:00\u001b[0m\n",
      "\u001b[?25hCollecting kiwisolver>=1.0.1 (from matplotlib)\n",
      "  Obtaining dependency information for kiwisolver>=1.0.1 from https://files.pythonhosted.org/packages/ef/da/e887802f34afb5806f139c71e6d5f20a9f33b2fccd7f9de771094f66ca5e/kiwisolver-1.4.5-cp39-cp39-macosx_10_9_x86_64.whl.metadata\n",
      "  Downloading kiwisolver-1.4.5-cp39-cp39-macosx_10_9_x86_64.whl.metadata (6.4 kB)\n",
      "Requirement already satisfied: numpy>=1.20 in /opt/anaconda3/envs/data_process/lib/python3.9/site-packages (from matplotlib) (1.25.2)\n",
      "Requirement already satisfied: packaging>=20.0 in /opt/anaconda3/envs/data_process/lib/python3.9/site-packages (from matplotlib) (23.1)\n",
      "Collecting pillow>=6.2.0 (from matplotlib)\n",
      "  Obtaining dependency information for pillow>=6.2.0 from https://files.pythonhosted.org/packages/ce/e1/861a5508b9fd82b39c05e4d49c0979a9c8ccab07dae39d0ce72bd5f2299d/Pillow-10.0.0-cp39-cp39-macosx_10_10_x86_64.whl.metadata\n",
      "  Downloading Pillow-10.0.0-cp39-cp39-macosx_10_10_x86_64.whl.metadata (9.5 kB)\n",
      "Collecting pyparsing<3.1,>=2.3.1 (from matplotlib)\n",
      "  Downloading pyparsing-3.0.9-py3-none-any.whl (98 kB)\n",
      "\u001b[2K     \u001b[90m━━━━━━━━━━━━━━━━━━━━━━━━━━━━━━━━━━━━━━━━\u001b[0m \u001b[32m98.3/98.3 kB\u001b[0m \u001b[31m10.9 MB/s\u001b[0m eta \u001b[36m0:00:00\u001b[0m\n",
      "\u001b[?25hRequirement already satisfied: python-dateutil>=2.7 in /opt/anaconda3/envs/data_process/lib/python3.9/site-packages (from matplotlib) (2.8.2)\n",
      "Collecting importlib-resources>=3.2.0 (from matplotlib)\n",
      "  Obtaining dependency information for importlib-resources>=3.2.0 from https://files.pythonhosted.org/packages/25/d4/592f53ce2f8dde8be5720851bd0ab71cc2e76c55978e4163ef1ab7e389bb/importlib_resources-6.0.1-py3-none-any.whl.metadata\n",
      "  Downloading importlib_resources-6.0.1-py3-none-any.whl.metadata (4.0 kB)\n",
      "Requirement already satisfied: zipp>=3.1.0 in /opt/anaconda3/envs/data_process/lib/python3.9/site-packages (from importlib-resources>=3.2.0->matplotlib) (3.16.2)\n",
      "Requirement already satisfied: six>=1.5 in /opt/anaconda3/envs/data_process/lib/python3.9/site-packages (from python-dateutil>=2.7->matplotlib) (1.16.0)\n",
      "Downloading matplotlib-3.7.2-cp39-cp39-macosx_10_12_x86_64.whl (7.4 MB)\n",
      "\u001b[2K   \u001b[90m━━━━━━━━━━━━━━━━━━━━━━━━━━━━━━━━━━━━━━━━\u001b[0m \u001b[32m7.4/7.4 MB\u001b[0m \u001b[31m35.2 MB/s\u001b[0m eta \u001b[36m0:00:00\u001b[0ma \u001b[36m0:00:01\u001b[0m\n",
      "\u001b[?25hDownloading contourpy-1.1.0-cp39-cp39-macosx_10_9_x86_64.whl (243 kB)\n",
      "\u001b[2K   \u001b[90m━━━━━━━━━━━━━━━━━━━━━━━━━━━━━━━━━━━━━━━━\u001b[0m \u001b[32m243.7/243.7 kB\u001b[0m \u001b[31m27.9 MB/s\u001b[0m eta \u001b[36m0:00:00\u001b[0m\n",
      "\u001b[?25hDownloading fonttools-4.42.1-cp39-cp39-macosx_10_9_x86_64.whl (2.2 MB)\n",
      "\u001b[2K   \u001b[90m━━━━━━━━━━━━━━━━━━━━━━━━━━━━━━━━━━━━━━━━\u001b[0m \u001b[32m2.2/2.2 MB\u001b[0m \u001b[31m38.4 MB/s\u001b[0m eta \u001b[36m0:00:00\u001b[0ma \u001b[36m0:00:01\u001b[0m\n",
      "\u001b[?25hDownloading importlib_resources-6.0.1-py3-none-any.whl (34 kB)\n",
      "Downloading kiwisolver-1.4.5-cp39-cp39-macosx_10_9_x86_64.whl (68 kB)\n",
      "\u001b[2K   \u001b[90m━━━━━━━━━━━━━━━━━━━━━━━━━━━━━━━━━━━━━━━━\u001b[0m \u001b[32m68.1/68.1 kB\u001b[0m \u001b[31m8.3 MB/s\u001b[0m eta \u001b[36m0:00:00\u001b[0m\n",
      "\u001b[?25hDownloading Pillow-10.0.0-cp39-cp39-macosx_10_10_x86_64.whl (3.4 MB)\n",
      "\u001b[2K   \u001b[90m━━━━━━━━━━━━━━━━━━━━━━━━━━━━━━━━━━━━━━━━\u001b[0m \u001b[32m3.4/3.4 MB\u001b[0m \u001b[31m39.4 MB/s\u001b[0m eta \u001b[36m0:00:00\u001b[0m00:01\u001b[0m00:01\u001b[0m\n",
      "\u001b[?25hInstalling collected packages: pyparsing, pillow, kiwisolver, importlib-resources, fonttools, cycler, contourpy, matplotlib\n",
      "Successfully installed contourpy-1.1.0 cycler-0.11.0 fonttools-4.42.1 importlib-resources-6.0.1 kiwisolver-1.4.5 matplotlib-3.7.2 pillow-10.0.0 pyparsing-3.0.9\n"
     ]
    }
   ],
   "source": [
    "!pip install matplotlib"
   ]
  },
  {
   "cell_type": "code",
   "execution_count": null,
   "metadata": {},
   "outputs": [],
   "source": []
  }
 ],
 "metadata": {
  "kernelspec": {
   "display_name": "data_process",
   "language": "python",
   "name": "python3"
  },
  "language_info": {
   "codemirror_mode": {
    "name": "ipython",
    "version": 3
   },
   "file_extension": ".py",
   "mimetype": "text/x-python",
   "name": "python",
   "nbconvert_exporter": "python",
   "pygments_lexer": "ipython3",
   "version": "3.9.17"
  },
  "orig_nbformat": 4
 },
 "nbformat": 4,
 "nbformat_minor": 2
}

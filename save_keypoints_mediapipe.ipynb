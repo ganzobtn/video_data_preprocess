{
 "cells": [
  {
   "cell_type": "code",
   "execution_count": 51,
   "metadata": {},
   "outputs": [],
   "source": [
    "import cv2\n",
    "import mediapipe as mp\n",
    "import os\n",
    "import numpy as np"
   ]
  },
  {
   "cell_type": "code",
   "execution_count": 3,
   "metadata": {},
   "outputs": [],
   "source": [
    "mp_holistic = mp.solutions.holistic"
   ]
  },
  {
   "cell_type": "code",
   "execution_count": 61,
   "metadata": {},
   "outputs": [],
   "source": [
    "import pickle\n",
    "with open('/home/ganzorig/docker_workspace/data/wlasl_2000/keypoints_hrnet_dark_coco_wholebody.pkl', 'rb') as f:\n",
    "    data = pickle.load(f)"
   ]
  },
  {
   "cell_type": "code",
   "execution_count": 55,
   "metadata": {},
   "outputs": [],
   "source": [
    "\n",
    "def get_keypoints(data_path):\n",
    "    keypoint_data= []\n",
    "    cap = cv2.VideoCapture(data_path)\n",
    "\n",
    "    frame_width, frame_height = int(cap.get(3)), int(cap.get(4))\n",
    "    length = int(cap.get(cv2.CAP_PROP_FRAME_COUNT))\n",
    "    print('frame:',length)\n",
    "    #(1920, 1080)\n",
    "    fps = cap.get(cv2.CAP_PROP_FPS)\n",
    "    #out = cv2.VideoWriter(os.path.join(dest_path, person, category, video), cv2.VideoWriter_fourcc(\n",
    "    #    *'MP4V'), fps, (frame_width, frame_height))\n",
    "\n",
    "    with mp_holistic.Holistic(\n",
    "            min_detection_confidence=0.2,\n",
    "            min_tracking_confidence=0.2) as holistic:\n",
    "        while cap.isOpened():\n",
    "            success, image = cap.read()\n",
    "            if not success:\n",
    "                print(\"Ignoring empty camera frame.\")\n",
    "                # If loading a video, use 'break' instead of 'continue'.\n",
    "                break\n",
    "\n",
    "            # To improve performance, optionally mark the image as not writeable to\n",
    "            # pass by reference.\n",
    "            image.flags.writeable = False\n",
    "            image = cv2.cvtColor(image, cv2.COLOR_BGR2RGB)\n",
    "\n",
    "            results = holistic.process(image)\n",
    "            #print('ff:', results.right_hand_landmarks)\n",
    "            data = []\n",
    "\n",
    "\n",
    "            landmarks = results.right_hand_landmarks\n",
    "            if landmarks is not None:\n",
    "                keypoints  = landmarks.landmark\n",
    "                for i in keypoints:\n",
    "                    data.append([i.x,i.y,0.5])\n",
    "                #print(len(data))\n",
    "            else:\n",
    "                for i in range(21):\n",
    "                    data.append([0,0,0.5])\n",
    "\n",
    "            landmarks = results.left_hand_landmarks\n",
    "            if landmarks is not None:\n",
    "                keypoints  = landmarks.landmark\n",
    "                for i in keypoints:\n",
    "                    data.append([i.x,i.y,0.5])\n",
    "                #print(len(data))\n",
    "            else:\n",
    "                for i in range(21):\n",
    "                    data.append([0,0,0.5])\n",
    "\n",
    "\n",
    "\n",
    "\n",
    "            keypoint_data.append(data)\n",
    "\n",
    "        cap.release()\n",
    "    return np.array(keypoint_data[1:-1])"
   ]
  },
  {
   "cell_type": "code",
   "execution_count": null,
   "metadata": {},
   "outputs": [],
   "source": [
    "data_path = '/media/ganzorig/53D11DCE629A37AA/Datas/WLASL2000/'\n",
    "\n",
    "for (root,dirs,files) in os.walk(data_path, topdown=True):\n",
    "#print (root)\n",
    "#print (dirs)\n",
    "#print (files)\n",
    "\n",
    "    for file in files:\n",
    "        if file.endswith('.mp4'):\n",
    "            #print(os.path.join(root,file))\n",
    "\n",
    "            #get_features(data_path=os.path.join(root,file), dest_path = os.path.join(dest_path_new,file))\n",
    "            keypoint_data =get_keypoints(data_path=os.path.join(root,file))\n",
    "            #print(len(keypoint_data))\n",
    "            #print(keypoint_data.shape)\n",
    "            #print(data[file.replace('.mp4','')].shape)\n",
    "            #break\n",
    "    print ('--------------------------------')"
   ]
  },
  {
   "cell_type": "code",
   "execution_count": 65,
   "metadata": {},
   "outputs": [],
   "source": [
    "\n",
    "import os\n",
    "from concurrent.futures import ThreadPoolExecutor"
   ]
  },
  {
   "cell_type": "code",
   "execution_count": 67,
   "metadata": {},
   "outputs": [],
   "source": [
    "\n",
    "file_list = []\n",
    "\n",
    "for (root,dirs,files) in os.walk(data_path, topdown=True):\n",
    "    for file in files:\n",
    "        if file.endswith('.mp4'):\n",
    "            file_list.append([root,file])\n",
    "\n",
    "num_cpus = os.cpu_count()  # This gets the number of available CPU cores\n"
   ]
  },
  {
   "cell_type": "code",
   "execution_count": null,
   "metadata": {},
   "outputs": [
    {
     "data": {
      "text/plain": [
       "'23475.mp4'"
      ]
     },
     "execution_count": 68,
     "metadata": {},
     "output_type": "execute_result"
    }
   ],
   "source": [
    "file_list"
   ]
  },
  {
   "cell_type": "code",
   "execution_count": null,
   "metadata": {},
   "outputs": [],
   "source": [
    "with ThreadPoolExecutor(max_workers=num_cpus) as executor:\n",
    "    # Process videos in parallel\n",
    "    results = list(executor.map(get_keypoints, file_list))\n",
    "\n"
   ]
  },
  {
   "cell_type": "code",
   "execution_count": null,
   "metadata": {},
   "outputs": [],
   "source": [
    "# Print the results\n",
    "for result in results:\n",
    "    print(result)\n",
    "\n",
    "    print ('--------------------------------')\n"
   ]
  }
 ],
 "metadata": {
  "kernelspec": {
   "display_name": "data_process_38",
   "language": "python",
   "name": "python3"
  },
  "language_info": {
   "codemirror_mode": {
    "name": "ipython",
    "version": 3
   },
   "file_extension": ".py",
   "mimetype": "text/x-python",
   "name": "python",
   "nbconvert_exporter": "python",
   "pygments_lexer": "ipython3",
   "version": "3.8.18"
  }
 },
 "nbformat": 4,
 "nbformat_minor": 2
}
